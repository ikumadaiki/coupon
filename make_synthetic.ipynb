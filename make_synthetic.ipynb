{
 "cells": [
  {
   "cell_type": "code",
   "execution_count": 4,
   "metadata": {},
   "outputs": [
    {
     "name": "stdout",
     "output_type": "stream",
     "text": [
      "Direct\n",
      "IPW\n",
      "DR\n"
     ]
    }
   ],
   "source": [
    "method_dic = {\n",
    "    \"Direct\": [\"y_r_train\", \"y_c_train\", \"y_r_val\", \"y_c_val\"],\n",
    "    \"IPW\": [\"y_r_ipw_train\", \"y_c_ipw_train\", \"y_r_ipw_val\", \"y_c_ipw_val\"],\n",
    "    \"DR\": [\"y_r_dr_train\", \"y_c_dr_train\", \"y_r_dr_val\", \"y_c_dr_val\"]\n",
    "}\n",
    "\n",
    "# キーを1つずつ取り出して処理する\n",
    "for key in method_dic:\n",
    "    # ここに各キーに対する処理を記述\n",
    "    print(key)\n",
    "    \n",
    "    # 必要に応じてここに具体的な処理を追加\n"
   ]
  }
 ],
 "metadata": {
  "kernelspec": {
   "display_name": ".venv",
   "language": "python",
   "name": "python3"
  },
  "language_info": {
   "codemirror_mode": {
    "name": "ipython",
    "version": 3
   },
   "file_extension": ".py",
   "mimetype": "text/x-python",
   "name": "python",
   "nbconvert_exporter": "python",
   "pygments_lexer": "ipython3",
   "version": "3.10.10"
  }
 },
 "nbformat": 4,
 "nbformat_minor": 2
}
